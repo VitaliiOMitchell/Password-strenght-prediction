{
 "cells": [
  {
   "cell_type": "code",
   "execution_count": 1,
   "id": "450b785d",
   "metadata": {},
   "outputs": [],
   "source": [
    "import pandas as pd\n",
    "import numpy as np\n",
    "from sklearn.model_selection import train_test_split\n",
    "from sklearn.naive_bayes import MultinomialNB\n",
    "from sklearn.naive_bayes import GaussianNB\n",
    "from sklearn.linear_model import LogisticRegression\n",
    "from sklearn.tree import DecisionTreeClassifier\n",
    "from sklearn.svm import LinearSVC\n",
    "from sklearn.linear_model import SGDClassifier\n",
    "from sklearn.metrics import f1_score, confusion_matrix as cm, log_loss as l_l, precision_score, roc_auc_score"
   ]
  },
  {
   "cell_type": "code",
   "execution_count": 2,
   "id": "207b3c61",
   "metadata": {},
   "outputs": [],
   "source": [
    "pas = pd.read_csv('new_passwords.csv')"
   ]
  },
  {
   "cell_type": "code",
   "execution_count": 3,
   "id": "cc4f8f67",
   "metadata": {},
   "outputs": [],
   "source": [
    "pas.drop('password', axis = 1, inplace = True)"
   ]
  },
  {
   "cell_type": "code",
   "execution_count": 4,
   "id": "f8d376fd",
   "metadata": {},
   "outputs": [],
   "source": [
    "X = pas.values[:, 1:]\n",
    "y = pas.values[:, 0]"
   ]
  },
  {
   "cell_type": "code",
   "execution_count": 5,
   "id": "bf8d3917",
   "metadata": {},
   "outputs": [],
   "source": [
    "X_train, X_test, y_train, y_test = train_test_split(X, y, test_size = 0.3, random_state = 42)"
   ]
  },
  {
   "cell_type": "code",
   "execution_count": 6,
   "id": "6db18187",
   "metadata": {},
   "outputs": [],
   "source": [
    "GNB = GaussianNB()\n",
    "MNB = MultinomialNB()\n",
    "LR = LogisticRegression(multi_class = 'multinomial')\n",
    "DTC = DecisionTreeClassifier(max_depth = 3)\n",
    "L_SVC = LinearSVC()\n",
    "SGD = SGDClassifier()"
   ]
  },
  {
   "cell_type": "code",
   "execution_count": 7,
   "id": "a1e672d4",
   "metadata": {},
   "outputs": [],
   "source": [
    "algos = [GNB,\n",
    "         MNB,\n",
    "         LR, \n",
    "         DTC,\n",
    "         L_SVC,\n",
    "         SGD]"
   ]
  },
  {
   "cell_type": "code",
   "execution_count": 10,
   "id": "e9b3c59f",
   "metadata": {},
   "outputs": [],
   "source": [
    "def preds(alg, x_train=X_train, \n",
    "          y_train=y_train, \n",
    "          test_x=X_test,\n",
    "          test_y=y_test):\n",
    "    \n",
    "    alg.fit(x_train, y_train)\n",
    "    preds = alg.predict(test_x)\n",
    "    \n",
    "    results = {'Algorithm': alg, \n",
    "               'F1_score(macro)': f1_score(test_y, preds, average='macro'),\n",
    "               'Precision_score(macro)': precision_score(test_y, preds, average='macro'),\n",
    "               'F1_score(micro)': f1_score(test_y, preds, average='micro'),\n",
    "               'Precision_score(micro)': precision_score(test_y, preds, average='micro'),\n",
    "               'Confusion_matrix': cm(test_y, preds)}\n",
    "    \n",
    "    #confusion_matrix = cm(test_y, preds)\n",
    "    \n",
    "    return results #confusion_matrix\n",
    "    "
   ]
  },
  {
   "cell_type": "code",
   "execution_count": 11,
   "id": "1a27b8f6",
   "metadata": {},
   "outputs": [
    {
     "name": "stdout",
     "output_type": "stream",
     "text": [
      "{'Algorithm': GaussianNB(), 'F1_score(macro)': 0.5438825920775927, 'Precision_score(macro)': 0.6045269128927915, 'F1_score(micro)': 0.6474528532941465, 'Precision_score(micro)': 0.6474528532941465, 'Confusion_matrix': array([[  167, 25891,   699],\n",
      "       [   53, 29056,   742],\n",
      "       [  253,  1151, 23648]], dtype=int64)}\n",
      "{'Algorithm': MultinomialNB(), 'F1_score(macro)': 0.6657824176625943, 'Precision_score(macro)': 0.6783886767582671, 'F1_score(micro)': 0.6519593436198874, 'Precision_score(micro)': 0.6519593436198874, 'Confusion_matrix': array([[14471, 11699,   587],\n",
      "       [11047, 18272,   532],\n",
      "       [ 2680,  1876, 20496]], dtype=int64)}\n"
     ]
    },
    {
     "name": "stderr",
     "output_type": "stream",
     "text": [
      "F:\\Anaconda\\envs\\DEEP\\lib\\site-packages\\sklearn\\linear_model\\_logistic.py:458: ConvergenceWarning: lbfgs failed to converge (status=1):\n",
      "STOP: TOTAL NO. of ITERATIONS REACHED LIMIT.\n",
      "\n",
      "Increase the number of iterations (max_iter) or scale the data as shown in:\n",
      "    https://scikit-learn.org/stable/modules/preprocessing.html\n",
      "Please also refer to the documentation for alternative solver options:\n",
      "    https://scikit-learn.org/stable/modules/linear_model.html#logistic-regression\n",
      "  n_iter_i = _check_optimize_result(\n"
     ]
    },
    {
     "name": "stdout",
     "output_type": "stream",
     "text": [
      "{'Algorithm': LogisticRegression(multi_class='multinomial'), 'F1_score(macro)': 0.9990581736399219, 'Precision_score(macro)': 0.9990243276369055, 'F1_score(micro)': 0.9990448199853049, 'Precision_score(micro)': 0.9990448199853049, 'Confusion_matrix': array([[26757,     0,     0],\n",
      "       [   30, 29790,    31],\n",
      "       [    0,    17, 25035]], dtype=int64)}\n"
     ]
    },
    {
     "name": "stderr",
     "output_type": "stream",
     "text": [
      "F:\\Anaconda\\envs\\DEEP\\lib\\site-packages\\sklearn\\metrics\\_classification.py:1344: UndefinedMetricWarning: Precision is ill-defined and being set to 0.0 in labels with no predicted samples. Use `zero_division` parameter to control this behavior.\n",
      "  _warn_prf(average, modifier, msg_start, len(result))\n"
     ]
    },
    {
     "name": "stdout",
     "output_type": "stream",
     "text": [
      "{'Algorithm': DecisionTreeClassifier(max_depth=3), 'F1_score(macro)': 0.49181671423986834, 'Precision_score(macro)': 0.4811587099231088, 'F1_score(micro)': 0.587374479549351, 'Precision_score(micro)': 0.587374479549351, 'Confusion_matrix': array([[    0, 26518,   239],\n",
      "       [    0, 29564,   287],\n",
      "       [    0,  6651, 18401]], dtype=int64)}\n"
     ]
    },
    {
     "name": "stderr",
     "output_type": "stream",
     "text": [
      "F:\\Anaconda\\envs\\DEEP\\lib\\site-packages\\sklearn\\svm\\_base.py:1244: ConvergenceWarning: Liblinear failed to converge, increase the number of iterations.\n",
      "  warnings.warn(\n"
     ]
    },
    {
     "name": "stdout",
     "output_type": "stream",
     "text": [
      "{'Algorithm': LinearSVC(), 'F1_score(macro)': 0.9943418428120542, 'Precision_score(macro)': 0.9942202342661918, 'F1_score(micro)': 0.9942566740142053, 'Precision_score(micro)': 0.9942566740142053, 'Confusion_matrix': array([[26757,     0,     0],\n",
      "       [  200, 29514,   137],\n",
      "       [    0,   132, 24920]], dtype=int64)}\n",
      "{'Algorithm': SGDClassifier(), 'F1_score(macro)': 0.9874537570275637, 'Precision_score(macro)': 0.9873676200276796, 'F1_score(micro)': 0.9872275287778595, 'Precision_score(micro)': 0.9872275287778595, 'Confusion_matrix': array([[26757,     0,     0],\n",
      "       [  544, 29141,   166],\n",
      "       [    1,   332, 24719]], dtype=int64)}\n"
     ]
    }
   ],
   "source": [
    "for alg in algos:\n",
    "    print(preds(alg))"
   ]
  },
  {
   "cell_type": "code",
   "execution_count": 64,
   "id": "be72d46b",
   "metadata": {},
   "outputs": [
    {
     "data": {
      "text/plain": [
       "['LogisticRegression_model.jl']"
      ]
     },
     "execution_count": 64,
     "metadata": {},
     "output_type": "execute_result"
    }
   ],
   "source": [
    "import joblib\n",
    "joblib.dump(LR, 'LogisticRegression_model.jl')"
   ]
  },
  {
   "cell_type": "code",
   "execution_count": null,
   "id": "20d506fa",
   "metadata": {},
   "outputs": [],
   "source": []
  },
  {
   "cell_type": "code",
   "execution_count": null,
   "id": "dabc70ad",
   "metadata": {},
   "outputs": [],
   "source": []
  },
  {
   "cell_type": "code",
   "execution_count": null,
   "id": "65a92fb4",
   "metadata": {},
   "outputs": [],
   "source": []
  },
  {
   "cell_type": "code",
   "execution_count": null,
   "id": "a3771ae1",
   "metadata": {},
   "outputs": [],
   "source": []
  }
 ],
 "metadata": {
  "kernelspec": {
   "display_name": "MEGA DEEP",
   "language": "python",
   "name": "deep"
  },
  "language_info": {
   "codemirror_mode": {
    "name": "ipython",
    "version": 3
   },
   "file_extension": ".py",
   "mimetype": "text/x-python",
   "name": "python",
   "nbconvert_exporter": "python",
   "pygments_lexer": "ipython3",
   "version": "3.9.15"
  }
 },
 "nbformat": 4,
 "nbformat_minor": 5
}
