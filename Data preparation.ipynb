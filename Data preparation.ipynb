{
 "cells": [
  {
   "cell_type": "code",
   "execution_count": 4,
   "id": "37a63ef7",
   "metadata": {},
   "outputs": [],
   "source": [
    "import string\n",
    "import pandas as pd\n",
    "import numpy as np\n",
    "import matplotlib.pyplot as plt\n",
    "from collections import Counter"
   ]
  },
  {
   "cell_type": "code",
   "execution_count": 5,
   "id": "e4f9062c",
   "metadata": {},
   "outputs": [],
   "source": [
    "passwords = pd.read_csv('password.csv', on_bad_lines='skip')"
   ]
  },
  {
   "cell_type": "code",
   "execution_count": 6,
   "id": "b9a08054",
   "metadata": {},
   "outputs": [
    {
     "data": {
      "text/html": [
       "<div>\n",
       "<style scoped>\n",
       "    .dataframe tbody tr th:only-of-type {\n",
       "        vertical-align: middle;\n",
       "    }\n",
       "\n",
       "    .dataframe tbody tr th {\n",
       "        vertical-align: top;\n",
       "    }\n",
       "\n",
       "    .dataframe thead th {\n",
       "        text-align: right;\n",
       "    }\n",
       "</style>\n",
       "<table border=\"1\" class=\"dataframe\">\n",
       "  <thead>\n",
       "    <tr style=\"text-align: right;\">\n",
       "      <th></th>\n",
       "      <th>password</th>\n",
       "      <th>strength</th>\n",
       "    </tr>\n",
       "  </thead>\n",
       "  <tbody>\n",
       "    <tr>\n",
       "      <th>0</th>\n",
       "      <td>kzde5577</td>\n",
       "      <td>1</td>\n",
       "    </tr>\n",
       "    <tr>\n",
       "      <th>1</th>\n",
       "      <td>kino3434</td>\n",
       "      <td>1</td>\n",
       "    </tr>\n",
       "    <tr>\n",
       "      <th>2</th>\n",
       "      <td>visi7k1yr</td>\n",
       "      <td>1</td>\n",
       "    </tr>\n",
       "    <tr>\n",
       "      <th>3</th>\n",
       "      <td>megzy123</td>\n",
       "      <td>1</td>\n",
       "    </tr>\n",
       "    <tr>\n",
       "      <th>4</th>\n",
       "      <td>lamborghin1</td>\n",
       "      <td>1</td>\n",
       "    </tr>\n",
       "  </tbody>\n",
       "</table>\n",
       "</div>"
      ],
      "text/plain": [
       "      password  strength\n",
       "0     kzde5577         1\n",
       "1     kino3434         1\n",
       "2    visi7k1yr         1\n",
       "3     megzy123         1\n",
       "4  lamborghin1         1"
      ]
     },
     "execution_count": 6,
     "metadata": {},
     "output_type": "execute_result"
    }
   ],
   "source": [
    "passwords.head()"
   ]
  },
  {
   "cell_type": "code",
   "execution_count": 7,
   "id": "77891104",
   "metadata": {},
   "outputs": [],
   "source": [
    "passwords['strength'] = passwords['strength'].astype('int16')\n",
    "passwords['password'] = passwords['password'].astype(str)"
   ]
  },
  {
   "cell_type": "code",
   "execution_count": 8,
   "id": "fe26db0f",
   "metadata": {},
   "outputs": [
    {
     "name": "stdout",
     "output_type": "stream",
     "text": [
      "<class 'pandas.core.frame.DataFrame'>\n",
      "RangeIndex: 669640 entries, 0 to 669639\n",
      "Data columns (total 2 columns):\n",
      " #   Column    Non-Null Count   Dtype \n",
      "---  ------    --------------   ----- \n",
      " 0   password  669640 non-null  object\n",
      " 1   strength  669640 non-null  int16 \n",
      "dtypes: int16(1), object(1)\n",
      "memory usage: 6.4+ MB\n"
     ]
    }
   ],
   "source": [
    "passwords.info()"
   ]
  },
  {
   "cell_type": "code",
   "execution_count": 9,
   "id": "34a7f016",
   "metadata": {},
   "outputs": [],
   "source": [
    "stren_dict = Counter(passwords['strength'])\n",
    "keys = list(stren_dict.keys())\n",
    "frequency = list(stren_dict.values())"
   ]
  },
  {
   "cell_type": "code",
   "execution_count": 10,
   "id": "5d37ed14",
   "metadata": {},
   "outputs": [
    {
     "data": {
      "text/plain": [
       "Text(0, 0.5, 'Frequency')"
      ]
     },
     "execution_count": 10,
     "metadata": {},
     "output_type": "execute_result"
    },
    {
     "data": {
      "image/png": "[encoded data removed]",
      "text/plain": [
       "<Figure size 640x480 with 1 Axes>"
      ]
     },
     "metadata": {},
     "output_type": "display_data"
    }
   ],
   "source": [
    "plt.bar(keys, frequency)\n",
    "plt.xlabel('Value')\n",
    "plt.ylabel('Frequency')"
   ]
  },
  {
   "cell_type": "code",
   "execution_count": 11,
   "id": "485c36f0",
   "metadata": {},
   "outputs": [],
   "source": [
    "stren_0 = passwords.loc[passwords['strength'] == 0]"
   ]
  },
  {
   "cell_type": "code",
   "execution_count": 12,
   "id": "23d74f3f",
   "metadata": {},
   "outputs": [],
   "source": [
    "stren_1 = passwords.loc[passwords['strength'] == 1]"
   ]
  },
  {
   "cell_type": "code",
   "execution_count": 13,
   "id": "4c94d3a8",
   "metadata": {},
   "outputs": [],
   "source": [
    "stren_2 = passwords.loc[passwords['strength'] == 2]"
   ]
  },
  {
   "cell_type": "code",
   "execution_count": 14,
   "id": "b87a1352",
   "metadata": {},
   "outputs": [],
   "source": [
    "stren_1 = stren_1.sample(frac=0.20)"
   ]
  },
  {
   "cell_type": "code",
   "execution_count": 15,
   "id": "217ca15b",
   "metadata": {},
   "outputs": [],
   "source": [
    "dfs = [stren_0, stren_1, stren_2]"
   ]
  },
  {
   "cell_type": "code",
   "execution_count": 16,
   "id": "b8113712",
   "metadata": {},
   "outputs": [],
   "source": [
    "new_data = pd.concat(dfs)"
   ]
  },
  {
   "cell_type": "code",
   "execution_count": 17,
   "id": "2cd1d19b",
   "metadata": {},
   "outputs": [],
   "source": [
    "stren_dict = Counter(new_data['strength'])\n",
    "keys = list(stren_dict.keys())\n",
    "frequency = list(stren_dict.values())"
   ]
  },
  {
   "cell_type": "code",
   "execution_count": 18,
   "id": "b3994136",
   "metadata": {},
   "outputs": [
    {
     "data": {
      "text/plain": [
       "Text(0, 0.5, 'Frequency')"
      ]
     },
     "execution_count": 18,
     "metadata": {},
     "output_type": "execute_result"
    },
    {
     "data": {
      "image/png": "[encoded data removed]",
      "text/plain": [
       "<Figure size 640x480 with 1 Axes>"
      ]
     },
     "metadata": {},
     "output_type": "display_data"
    }
   ],
   "source": [
    "plt.bar(keys, frequency)\n",
    "plt.xlabel('Value')\n",
    "plt.ylabel('Frequency')\n",
    "\n",
    "# This one looks better"
   ]
  },
  {
   "cell_type": "code",
   "execution_count": 19,
   "id": "3ba273ae",
   "metadata": {},
   "outputs": [],
   "source": [
    "pas = new_data['password'].to_numpy()"
   ]
  },
  {
   "cell_type": "code",
   "execution_count": 20,
   "id": "db7d06a9",
   "metadata": {},
   "outputs": [],
   "source": [
    "chars = string.ascii_letters + '0123456789!\"#$%&()*+,-./:;<=>?@[\\]^_`{|}~'"
   ]
  },
  {
   "cell_type": "code",
   "execution_count": 21,
   "id": "d9d073fd",
   "metadata": {},
   "outputs": [],
   "source": [
    "chars_l = [char for char in chars]"
   ]
  },
  {
   "cell_type": "code",
   "execution_count": 22,
   "id": "6f8ec09f",
   "metadata": {},
   "outputs": [],
   "source": [
    "def cols_creator(char, passwords=pas):\n",
    "    col = []\n",
    "    for password in passwords:\n",
    "        chars_count = Counter(password)\n",
    "        col.append(chars_count.get(char))\n",
    "    return col"
   ]
  },
  {
   "cell_type": "code",
   "execution_count": 23,
   "id": "6070050e",
   "metadata": {},
   "outputs": [],
   "source": [
    "for char in chars_l:\n",
    "    new_data[char] = cols_creator(char)\n"
   ]
  },
  {
   "cell_type": "code",
   "execution_count": 24,
   "id": "091f5c40",
   "metadata": {},
   "outputs": [
    {
     "name": "stdout",
     "output_type": "stream",
     "text": [
      "<class 'pandas.core.frame.DataFrame'>\n",
      "Int64Index: 272199 entries, 21 to 669631\n",
      "Data columns (total 95 columns):\n",
      " #   Column    Non-Null Count   Dtype  \n",
      "---  ------    --------------   -----  \n",
      " 0   password  272199 non-null  object \n",
      " 1   strength  272199 non-null  int16  \n",
      " 2   a         110684 non-null  float64\n",
      " 3   b         37691 non-null   float64\n",
      " 4   c         48010 non-null   float64\n",
      " 5   d         46304 non-null   float64\n",
      " 6   e         86092 non-null   float64\n",
      " 7   f         29498 non-null   float64\n",
      " 8   g         52661 non-null   float64\n",
      " 9   h         42310 non-null   float64\n",
      " 10  i         79884 non-null   float64\n",
      " 11  j         41792 non-null   float64\n",
      " 12  k         51058 non-null   float64\n",
      " 13  l         55998 non-null   float64\n",
      " 14  m         55364 non-null   float64\n",
      " 15  n         66540 non-null   float64\n",
      " 16  o         77840 non-null   float64\n",
      " 17  p         40029 non-null   float64\n",
      " 18  q         22276 non-null   float64\n",
      " 19  r         67715 non-null   float64\n",
      " 20  s         63217 non-null   float64\n",
      " 21  t         54037 non-null   float64\n",
      " 22  u         54952 non-null   float64\n",
      " 23  v         31571 non-null   float64\n",
      " 24  w         43134 non-null   float64\n",
      " 25  x         29264 non-null   float64\n",
      " 26  y         48072 non-null   float64\n",
      " 27  z         40566 non-null   float64\n",
      " 28  A         31945 non-null   float64\n",
      " 29  B         11593 non-null   float64\n",
      " 30  C         11708 non-null   float64\n",
      " 31  D         24927 non-null   float64\n",
      " 32  E         19422 non-null   float64\n",
      " 33  F         11446 non-null   float64\n",
      " 34  G         11893 non-null   float64\n",
      " 35  H         11443 non-null   float64\n",
      " 36  I         18561 non-null   float64\n",
      " 37  J         11650 non-null   float64\n",
      " 38  K         11605 non-null   float64\n",
      " 39  L         11969 non-null   float64\n",
      " 40  M         32108 non-null   float64\n",
      " 41  N         29061 non-null   float64\n",
      " 42  O         22885 non-null   float64\n",
      " 43  P         11635 non-null   float64\n",
      " 44  Q         26605 non-null   float64\n",
      " 45  R         12194 non-null   float64\n",
      " 46  S         12811 non-null   float64\n",
      " 47  T         24851 non-null   float64\n",
      " 48  U         17658 non-null   float64\n",
      " 49  V         10972 non-null   float64\n",
      " 50  W         11125 non-null   float64\n",
      " 51  X         11010 non-null   float64\n",
      " 52  Y         17921 non-null   float64\n",
      " 53  Z         11058 non-null   float64\n",
      " 54  0         68455 non-null   float64\n",
      " 55  1         112132 non-null  float64\n",
      " 56  2         83295 non-null   float64\n",
      " 57  3         66414 non-null   float64\n",
      " 58  4         55441 non-null   float64\n",
      " 59  5         53913 non-null   float64\n",
      " 60  6         45378 non-null   float64\n",
      " 61  7         46749 non-null   float64\n",
      " 62  8         49411 non-null   float64\n",
      " 63  9         55631 non-null   float64\n",
      " 64  !         1246 non-null    float64\n",
      " 65  \"         5 non-null       float64\n",
      " 66  #         800 non-null     float64\n",
      " 67  $         638 non-null     float64\n",
      " 68  %         276 non-null     float64\n",
      " 69  &         437 non-null     float64\n",
      " 70  (         223 non-null     float64\n",
      " 71  )         246 non-null     float64\n",
      " 72  *         880 non-null     float64\n",
      " 73  +         376 non-null     float64\n",
      " 74  ,         0 non-null       object \n",
      " 75  -         1941 non-null    float64\n",
      " 76  .         3782 non-null    float64\n",
      " 77  /         425 non-null     float64\n",
      " 78  :         0 non-null       object \n",
      " 79  ;         248 non-null     float64\n",
      " 80  <         81 non-null      float64\n",
      " 81  =         165 non-null     float64\n",
      " 82  >         61 non-null      float64\n",
      " 83  ?         250 non-null     float64\n",
      " 84  @         3636 non-null    float64\n",
      " 85  [         96 non-null      float64\n",
      " 86  \\         15 non-null      float64\n",
      " 87  ]         93 non-null      float64\n",
      " 88  ^         203 non-null     float64\n",
      " 89  _         1913 non-null    float64\n",
      " 90  `         7 non-null       float64\n",
      " 91  {         37 non-null      float64\n",
      " 92  |         30 non-null      float64\n",
      " 93  }         33 non-null      float64\n",
      " 94  ~         68 non-null      float64\n",
      "dtypes: float64(91), int16(1), object(3)\n",
      "memory usage: 197.8+ MB\n"
     ]
    }
   ],
   "source": [
    "new_data.info()"
   ]
  },
  {
   "cell_type": "code",
   "execution_count": 25,
   "id": "e34e7f61",
   "metadata": {},
   "outputs": [],
   "source": [
    "for col in new_data.columns:\n",
    "    if np.dtype(new_data[col]) != 'O':\n",
    "        if np.dtype(new_data[col]) == 'float64':\n",
    "            new_data[col] = new_data[col].astype('float32')"
   ]
  },
  {
   "cell_type": "code",
   "execution_count": 26,
   "id": "1a19a8a3",
   "metadata": {},
   "outputs": [
    {
     "name": "stdout",
     "output_type": "stream",
     "text": [
      "<class 'pandas.core.frame.DataFrame'>\n",
      "Int64Index: 272199 entries, 21 to 669631\n",
      "Data columns (total 95 columns):\n",
      " #   Column    Non-Null Count   Dtype  \n",
      "---  ------    --------------   -----  \n",
      " 0   password  272199 non-null  object \n",
      " 1   strength  272199 non-null  int16  \n",
      " 2   a         110684 non-null  float32\n",
      " 3   b         37691 non-null   float32\n",
      " 4   c         48010 non-null   float32\n",
      " 5   d         46304 non-null   float32\n",
      " 6   e         86092 non-null   float32\n",
      " 7   f         29498 non-null   float32\n",
      " 8   g         52661 non-null   float32\n",
      " 9   h         42310 non-null   float32\n",
      " 10  i         79884 non-null   float32\n",
      " 11  j         41792 non-null   float32\n",
      " 12  k         51058 non-null   float32\n",
      " 13  l         55998 non-null   float32\n",
      " 14  m         55364 non-null   float32\n",
      " 15  n         66540 non-null   float32\n",
      " 16  o         77840 non-null   float32\n",
      " 17  p         40029 non-null   float32\n",
      " 18  q         22276 non-null   float32\n",
      " 19  r         67715 non-null   float32\n",
      " 20  s         63217 non-null   float32\n",
      " 21  t         54037 non-null   float32\n",
      " 22  u         54952 non-null   float32\n",
      " 23  v         31571 non-null   float32\n",
      " 24  w         43134 non-null   float32\n",
      " 25  x         29264 non-null   float32\n",
      " 26  y         48072 non-null   float32\n",
      " 27  z         40566 non-null   float32\n",
      " 28  A         31945 non-null   float32\n",
      " 29  B         11593 non-null   float32\n",
      " 30  C         11708 non-null   float32\n",
      " 31  D         24927 non-null   float32\n",
      " 32  E         19422 non-null   float32\n",
      " 33  F         11446 non-null   float32\n",
      " 34  G         11893 non-null   float32\n",
      " 35  H         11443 non-null   float32\n",
      " 36  I         18561 non-null   float32\n",
      " 37  J         11650 non-null   float32\n",
      " 38  K         11605 non-null   float32\n",
      " 39  L         11969 non-null   float32\n",
      " 40  M         32108 non-null   float32\n",
      " 41  N         29061 non-null   float32\n",
      " 42  O         22885 non-null   float32\n",
      " 43  P         11635 non-null   float32\n",
      " 44  Q         26605 non-null   float32\n",
      " 45  R         12194 non-null   float32\n",
      " 46  S         12811 non-null   float32\n",
      " 47  T         24851 non-null   float32\n",
      " 48  U         17658 non-null   float32\n",
      " 49  V         10972 non-null   float32\n",
      " 50  W         11125 non-null   float32\n",
      " 51  X         11010 non-null   float32\n",
      " 52  Y         17921 non-null   float32\n",
      " 53  Z         11058 non-null   float32\n",
      " 54  0         68455 non-null   float32\n",
      " 55  1         112132 non-null  float32\n",
      " 56  2         83295 non-null   float32\n",
      " 57  3         66414 non-null   float32\n",
      " 58  4         55441 non-null   float32\n",
      " 59  5         53913 non-null   float32\n",
      " 60  6         45378 non-null   float32\n",
      " 61  7         46749 non-null   float32\n",
      " 62  8         49411 non-null   float32\n",
      " 63  9         55631 non-null   float32\n",
      " 64  !         1246 non-null    float32\n",
      " 65  \"         5 non-null       float32\n",
      " 66  #         800 non-null     float32\n",
      " 67  $         638 non-null     float32\n",
      " 68  %         276 non-null     float32\n",
      " 69  &         437 non-null     float32\n",
      " 70  (         223 non-null     float32\n",
      " 71  )         246 non-null     float32\n",
      " 72  *         880 non-null     float32\n",
      " 73  +         376 non-null     float32\n",
      " 74  ,         0 non-null       object \n",
      " 75  -         1941 non-null    float32\n",
      " 76  .         3782 non-null    float32\n",
      " 77  /         425 non-null     float32\n",
      " 78  :         0 non-null       object \n",
      " 79  ;         248 non-null     float32\n",
      " 80  <         81 non-null      float32\n",
      " 81  =         165 non-null     float32\n",
      " 82  >         61 non-null      float32\n",
      " 83  ?         250 non-null     float32\n",
      " 84  @         3636 non-null    float32\n",
      " 85  [         96 non-null      float32\n",
      " 86  \\         15 non-null      float32\n",
      " 87  ]         93 non-null      float32\n",
      " 88  ^         203 non-null     float32\n",
      " 89  _         1913 non-null    float32\n",
      " 90  `         7 non-null       float32\n",
      " 91  {         37 non-null      float32\n",
      " 92  |         30 non-null      float32\n",
      " 93  }         33 non-null      float32\n",
      " 94  ~         68 non-null      float32\n",
      "dtypes: float32(91), int16(1), object(3)\n",
      "memory usage: 103.3+ MB\n"
     ]
    }
   ],
   "source": [
    "new_data.info()"
   ]
  },
  {
   "cell_type": "code",
   "execution_count": 27,
   "id": "5bc49796",
   "metadata": {},
   "outputs": [],
   "source": [
    "new_data = new_data.fillna(0)"
   ]
  },
  {
   "cell_type": "code",
   "execution_count": 28,
   "id": "2da4b5a8",
   "metadata": {},
   "outputs": [],
   "source": [
    "new_data.to_csv('new_passwords.csv', index = False)"
   ]
  },
  {
   "cell_type": "code",
   "execution_count": null,
   "id": "7e87dc09",
   "metadata": {},
   "outputs": [],
   "source": []
  },
  {
   "cell_type": "code",
   "execution_count": null,
   "id": "c8073545",
   "metadata": {},
   "outputs": [],
   "source": []
  },
  {
   "cell_type": "code",
   "execution_count": null,
   "id": "cfd4bc7e",
   "metadata": {},
   "outputs": [],
   "source": []
  },
  {
   "cell_type": "code",
   "execution_count": null,
   "id": "5270ec8d",
   "metadata": {},
   "outputs": [],
   "source": []
  },
  {
   "cell_type": "code",
   "execution_count": null,
   "id": "d77292ea",
   "metadata": {},
   "outputs": [],
   "source": []
  },
  {
   "cell_type": "code",
   "execution_count": null,
   "id": "985109b0",
   "metadata": {},
   "outputs": [],
   "source": []
  },
  {
   "cell_type": "code",
   "execution_count": null,
   "id": "22876d59",
   "metadata": {},
   "outputs": [],
   "source": []
  },
  {
   "cell_type": "code",
   "execution_count": null,
   "id": "f153a682",
   "metadata": {},
   "outputs": [],
   "source": []
  }
 ],
 "metadata": {
  "kernelspec": {
   "display_name": "MEGA DEEP",
   "language": "python",
   "name": "deep"
  },
  "language_info": {
   "codemirror_mode": {
    "name": "ipython",
    "version": 3
   },
   "file_extension": ".py",
   "mimetype": "text/x-python",
   "name": "python",
   "nbconvert_exporter": "python",
   "pygments_lexer": "ipython3",
   "version": "3.9.15"
  }
 },
 "nbformat": 4,
 "nbformat_minor": 5
}
